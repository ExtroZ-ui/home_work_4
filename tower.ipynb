{
 "cells": [
  {
   "cell_type": "code",
   "execution_count": 2,
   "metadata": {},
   "outputs": [
    {
     "name": "stdout",
     "output_type": "stream",
     "text": [
      "Решение Ханойской башни:\n",
      "Блин 1: Стержень 1 -> Стержень 3\n",
      "Блин 2: Стержень 1 -> Стержень 2\n",
      "Блин 1: Стержень 3 -> Стержень 2\n",
      "Блин 3: Стержень 1 -> Стержень 3\n",
      "Блин 1: Стержень 2 -> Стержень 1\n",
      "Блин 2: Стержень 2 -> Стержень 3\n",
      "Блин 1: Стержень 1 -> Стержень 3\n",
      "Решение записано в файл 'решение.txt'.\n"
     ]
    }
   ],
   "source": [
    "def hanoi(n, start, target, auxiliary, moves):\n",
    "    \"\"\"Рекурсивный алгоритм решения задачи Ханойской башни для 3 стержней.\"\"\"\n",
    "    if n == 1:\n",
    "        # Базовый случай: переносим один диск с start на target\n",
    "        moves.append(f\"Блин {n}: Стержень {start} -> Стержень {target}\")\n",
    "    else:\n",
    "        # Переносим n-1 дисков с start на auxiliary, используя target как вспомогательный\n",
    "        hanoi(n - 1, start, auxiliary, target, moves)\n",
    "        # Переносим самый большой диск на целевой стержень\n",
    "        moves.append(f\"Блин {n}: Стержень {start} -> Стержень {target}\")\n",
    "        # Переносим n-1 дисков с auxiliary на целевой стержень\n",
    "        hanoi(n - 1, auxiliary, target, start, moves)\n",
    "\n",
    "def get_initial_conditions():\n",
    "    \"\"\"Функция для ввода начальных условий: количества стержней и количества дисков.\"\"\"\n",
    "    # Ввод количества стержней\n",
    "    try:\n",
    "        num_rods = int(input(\"Введите количество стержней (в классической задаче должно быть 3): \"))\n",
    "        if num_rods != 3:\n",
    "            print(\"Программа поддерживает решение только для 3 стержней.\")\n",
    "            return None, None\n",
    "    except ValueError:\n",
    "        print(\"Ошибка: введите целое число.\")\n",
    "        return None, None\n",
    "\n",
    "    # Ввод количества дисков\n",
    "    try:\n",
    "        num_disks = int(input(\"Введите количество дисков: \"))\n",
    "        if num_disks <= 0:\n",
    "            raise ValueError(\"Количество дисков должно быть положительным.\")\n",
    "    except ValueError as e:\n",
    "        print(f\"Ошибка ввода: {e}\")\n",
    "        return None, None\n",
    "\n",
    "    return num_rods, num_disks\n",
    "\n",
    "def display_solution(moves):\n",
    "    \"\"\"Функция вывода решения в консоль.\"\"\"\n",
    "    print(\"Решение Ханойской башни:\")\n",
    "    for move in moves:\n",
    "        print(move)\n",
    "\n",
    "def save_solution_to_file(moves, filename=\"решение.txt\"):\n",
    "    \"\"\"Функция записи решения в текстовый файл.\"\"\"\n",
    "    with open(filename, \"w\", encoding=\"utf-8\") as f:\n",
    "        for move in moves:\n",
    "            f.write(move + \"\\n\")\n",
    "    print(f\"Решение записано в файл '{filename}'.\")\n",
    "\n",
    "def main():\n",
    "    # Ввод начальных условий\n",
    "    num_rods, num_disks = get_initial_conditions()\n",
    "    if num_rods is None or num_disks is None:\n",
    "        return\n",
    "\n",
    "    moves = []\n",
    "    # Решение задачи Ханойской башни\n",
    "    hanoi(num_disks, start=1, target=3, auxiliary=2, moves=moves)\n",
    "\n",
    "    # Вывод решения на экран\n",
    "    display_solution(moves)\n",
    "\n",
    "    # Запись решения в файл\n",
    "    save_solution_to_file(moves)\n",
    "\n",
    "if __name__ == \"__main__\":\n",
    "    main()\n"
   ]
  }
 ],
 "metadata": {
  "kernelspec": {
   "display_name": "Python 3",
   "language": "python",
   "name": "python3"
  },
  "language_info": {
   "codemirror_mode": {
    "name": "ipython",
    "version": 3
   },
   "file_extension": ".py",
   "mimetype": "text/x-python",
   "name": "python",
   "nbconvert_exporter": "python",
   "pygments_lexer": "ipython3",
   "version": "3.12.6"
  }
 },
 "nbformat": 4,
 "nbformat_minor": 2
}
